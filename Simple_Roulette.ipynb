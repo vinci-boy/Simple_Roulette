{
 "cells": [
  {
   "cell_type": "code",
   "execution_count": 2,
   "metadata": {},
   "outputs": [
    {
     "name": "stdout",
     "output_type": "stream",
     "text": [
      "select red or black monsieur: red\n",
      "How much do you want place, monsieur?  500\n",
      "************************************\n",
      "rien ne vas plus\n",
      "************************************\n",
      "the red 13 has been thrown monsieur\n",
      "************************************\n",
      "bravo monsieur, you have won 1000 rubles\n"
     ]
    }
   ],
   "source": [
    "import numpy as np\n",
    "\n",
    "color = input('select red or black monsieur: ')\n",
    "bet = int(input('How much do you want place, monsieur?  '))\n",
    "\n",
    "def roulette(color, bet):\n",
    "    \n",
    "    print('************************************')\n",
    "    \n",
    "    print('rien ne vas plus')\n",
    "    red = list(range(1, 36, 2))\n",
    "    black = list(range(2, 37, 2))\n",
    "    green = 0\n",
    "    result = np.random.randint(0, 29)\n",
    "    \n",
    "    if color == 'red':\n",
    "        choice = red\n",
    "    elif color == 'black':\n",
    "        choice = black\n",
    "    \n",
    "    print('************************************')\n",
    "    \n",
    "    if result in red:\n",
    "        print(f'the red {result} has been thrown monsieur')\n",
    "    elif result in black:\n",
    "        print(f'the black {result} has been thrown monsieur')\n",
    "    elif result == green:\n",
    "        print(f'the house has won, monsieur')\n",
    "    \n",
    "    print('************************************')\n",
    "    \n",
    "    if result in choice:\n",
    "        win = True\n",
    "        winnings = bet*2\n",
    "        print(f'bravo monsieur, you have won {winnings} rubles')\n",
    "    else:\n",
    "        loss = True\n",
    "        print('better luck next time, monsieur')\n",
    "        print(f'you have lost {bet} rubles')\n",
    "        \n",
    "    \n",
    "roulette(color, bet)"
   ]
  },
  {
   "cell_type": "code",
   "execution_count": null,
   "metadata": {},
   "outputs": [],
   "source": []
  }
 ],
 "metadata": {
  "kernelspec": {
   "display_name": "Python 3",
   "language": "python",
   "name": "python3"
  },
  "language_info": {
   "codemirror_mode": {
    "name": "ipython",
    "version": 3
   },
   "file_extension": ".py",
   "mimetype": "text/x-python",
   "name": "python",
   "nbconvert_exporter": "python",
   "pygments_lexer": "ipython3",
   "version": "3.8.3"
  }
 },
 "nbformat": 4,
 "nbformat_minor": 4
}
